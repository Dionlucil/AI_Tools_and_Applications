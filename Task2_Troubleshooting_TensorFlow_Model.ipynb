{
 "cells": [
  {
   "cell_type": "markdown",
   "id": "b416c79b",
   "metadata": {},
   "source": [
    "## Part 3: Ethics and Optimization"
   ]
  },
  {
   "cell_type": "markdown",
   "id": "cffd808e",
   "metadata": {},
   "source": [
    "### Task 2: Troubleshooting Challenge"
   ]
  },
  {
   "cell_type": "code",
   "execution_count": 1,
   "id": "d8e93d0d",
   "metadata": {},
   "outputs": [
    {
     "name": "stdout",
     "output_type": "stream",
     "text": [
      "=== Buggy Code Example ===\n",
      "Error in buggy model: Input 0 of layer \"conv2d\" is incompatible with the layer: expected min_ndim=4, found ndim=3. Full shape received: (None, 28, 28)\n"
     ]
    },
    {
     "name": "stderr",
     "output_type": "stream",
     "text": [
      "C:\\Users\\DIANA\\anaconda3\\lib\\site-packages\\keras\\src\\layers\\convolutional\\base_conv.py:107: UserWarning: Do not pass an `input_shape`/`input_dim` argument to a layer. When using Sequential models, prefer using an `Input(shape)` object as the first layer in the model instead.\n",
      "  super().__init__(activity_regularizer=activity_regularizer, **kwargs)\n"
     ]
    }
   ],
   "source": [
    "import tensorflow as tf\n",
    "from tensorflow.keras import datasets, layers, models\n",
    "\n",
    "print(\"=== Buggy Code Example ===\")\n",
    "try:\n",
    "    buggy_model = tf.keras.Sequential([\n",
    "        layers.Conv2D(32, (3,3), input_shape=(28,28), activation='relu'),\n",
    "        layers.Flatten(),\n",
    "        layers.Dense(10)\n",
    "    ])\n",
    "    buggy_model.compile(optimizer='adam', loss='mean_squared_error', metrics=['accuracy'])\n",
    "    print(\"Model compiled successfully (unexpected).\")\n",
    "except Exception as e:\n",
    "    print(\"Error in buggy model:\", e)"
   ]
  },
  {
   "cell_type": "code",
   "execution_count": 2,
   "id": "a4bbb3ce",
   "metadata": {},
   "outputs": [],
   "source": [
    "# Load and preprocess MNIST dataset\n",
    "(x_train, y_train), (x_test, y_test) = datasets.mnist.load_data()\n",
    "x_train, x_test = x_train / 255.0, x_test / 255.0\n",
    "x_train = x_train.reshape(-1, 28, 28, 1)\n",
    "x_test = x_test.reshape(-1, 28, 28, 1)"
   ]
  },
  {
   "cell_type": "code",
   "execution_count": 3,
   "id": "7c534f78",
   "metadata": {},
   "outputs": [
    {
     "data": {
      "text/plain": [
       "<Sequential name=sequential_1, built=True>"
      ]
     },
     "execution_count": 3,
     "metadata": {},
     "output_type": "execute_result"
    }
   ],
   "source": [
    "# Define corrected CNN model\n",
    "model = models.Sequential([\n",
    "    layers.Conv2D(32, (3,3), activation='relu', input_shape=(28,28,1)),\n",
    "    layers.MaxPooling2D((2,2)),\n",
    "    layers.Conv2D(64, (3,3), activation='relu'),\n",
    "    layers.MaxPooling2D((2,2)),\n",
    "    layers.Flatten(),\n",
    "    layers.Dense(64, activation='relu'),\n",
    "    layers.Dense(10, activation='softmax')\n",
    "])\n",
    "model"
   ]
  },
  {
   "cell_type": "code",
   "execution_count": 4,
   "id": "e54e23f8",
   "metadata": {},
   "outputs": [
    {
     "data": {
      "text/plain": [
       "<bound method Trainer.compile of <Sequential name=sequential_1, built=True>>"
      ]
     },
     "execution_count": 4,
     "metadata": {},
     "output_type": "execute_result"
    }
   ],
   "source": [
    "# Compile with correct loss and optimizer\n",
    "model.compile(optimizer='adam',\n",
    "              loss='sparse_categorical_crossentropy',\n",
    "              metrics=['accuracy'])\n",
    "model.compile"
   ]
  },
  {
   "cell_type": "code",
   "execution_count": 5,
   "id": "2f78ff81",
   "metadata": {},
   "outputs": [
    {
     "name": "stdout",
     "output_type": "stream",
     "text": [
      "\n",
      "=== Training Fixed Model ===\n",
      "Epoch 1/5\n",
      "1875/1875 - 56s - 30ms/step - accuracy: 0.9576 - loss: 0.1400 - val_accuracy: 0.9839 - val_loss: 0.0482\n",
      "Epoch 2/5\n",
      "1875/1875 - 54s - 29ms/step - accuracy: 0.9857 - loss: 0.0466 - val_accuracy: 0.9875 - val_loss: 0.0383\n",
      "Epoch 3/5\n",
      "1875/1875 - 50s - 27ms/step - accuracy: 0.9895 - loss: 0.0342 - val_accuracy: 0.9896 - val_loss: 0.0327\n",
      "Epoch 4/5\n",
      "1875/1875 - 55s - 29ms/step - accuracy: 0.9927 - loss: 0.0232 - val_accuracy: 0.9889 - val_loss: 0.0325\n",
      "Epoch 5/5\n",
      "1875/1875 - 85s - 46ms/step - accuracy: 0.9937 - loss: 0.0190 - val_accuracy: 0.9914 - val_loss: 0.0274\n"
     ]
    }
   ],
   "source": [
    "# Train model\n",
    "print(\"\\n=== Training Fixed Model ===\")\n",
    "history = model.fit(x_train, y_train, epochs=5, validation_data=(x_test, y_test), verbose=2)"
   ]
  },
  {
   "cell_type": "code",
   "execution_count": 6,
   "id": "b4c69a5d",
   "metadata": {},
   "outputs": [
    {
     "name": "stdout",
     "output_type": "stream",
     "text": [
      "313/313 - 3s - 11ms/step - accuracy: 0.9914 - loss: 0.0274\n",
      "\n",
      " Model successfully fixed and trained.\n",
      "Test Accuracy: 0.9914\n"
     ]
    }
   ],
   "source": [
    "# Evaluate model\n",
    "test_loss, test_acc = model.evaluate(x_test, y_test, verbose=2)\n",
    "print(f\"\\n Model successfully fixed and trained.\")\n",
    "print(f\"Test Accuracy: {test_acc:.4f}\")"
   ]
  },
  {
   "cell_type": "markdown",
   "id": "f9120819",
   "metadata": {},
   "source": [
    "##  Troubleshooting Challenge; Debugging TensorFlow Model\n",
    "\n",
    "**Problem Summary:**  \n",
    "The initial Convolutional Neural Network (CNN) model failed due to shape mismatches and incorrect loss configuration in TensorFlow. These issues prevented successful model compilation and training.\n",
    "\n",
    "**Identified Issues:**  \n",
    "1. The input shape was defined as (28, 28) instead of (28, 28, 1), causing a dimension mismatch\n",
    "2. The model incorrectly used mean squared error as the loss function instead of a classification-appropriate loss.\n",
    "3. The output layer lacked a softmax activation, preventing proper probability distribution for class predictions.\n",
    "\n",
    "**Fixes Implemented:**  \n",
    "- Corrected the input dimension to include the single color channel (28, 28, 1).\n",
    "- Replaced the loss function with sparse categorical crossentropy, suitable for multi-class classification.\n",
    "- Added MaxPooling layers to enhance feature extraction and reduce overfitting.\n",
    "- Included a softmax activation in the final layer to produce class probabilities. \n",
    "\n",
    "**Result:**  \n",
    "After debugging and retraining, the model compiled successfully and achieved the following results on the MNIST test set:\n",
    "\n",
    "Test Accuracy: 99.14%\n",
    "\n",
    "Test Loss: 0.0274\n",
    "\n",
    "The fixes resolved all configuration errors, and the optimized CNN achieved excellent performance, demonstrating effective troubleshooting and TensorFlow debugging skills.\n"
   ]
  },
  {
   "cell_type": "code",
   "execution_count": null,
   "id": "e8a569e6",
   "metadata": {},
   "outputs": [],
   "source": []
  }
 ],
 "metadata": {
  "kernelspec": {
   "display_name": "Python 3 (ipykernel)",
   "language": "python",
   "name": "python3"
  },
  "language_info": {
   "codemirror_mode": {
    "name": "ipython",
    "version": 3
   },
   "file_extension": ".py",
   "mimetype": "text/x-python",
   "name": "python",
   "nbconvert_exporter": "python",
   "pygments_lexer": "ipython3",
   "version": "3.9.13"
  }
 },
 "nbformat": 4,
 "nbformat_minor": 5
}
